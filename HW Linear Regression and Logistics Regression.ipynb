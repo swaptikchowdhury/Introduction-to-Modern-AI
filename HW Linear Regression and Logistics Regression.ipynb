{
  "nbformat": 4,
  "nbformat_minor": 0,
  "metadata": {
    "colab": {
      "provenance": [],
      "toc_visible": true
    },
    "kernelspec": {
      "name": "python3",
      "display_name": "Python 3"
    },
    "language_info": {
      "name": "python"
    }
  },
  "cells": [
    {
      "cell_type": "markdown",
      "source": [
        "\n",
        "# Introduction to Modern AI - HW 1\n",
        "Gavin Hartnett  \n",
        "PRGS, Winter Quarter 2021\n",
        "\n",
        "This HW is worth 12.5% of your grade. Complete the assignment by making a local copy of this Colab Notebook and filling in the responses in your local copy. If you do not know how to typset math in LaTeX, feel free to email me a scanned piece of paper with your work instead.\n",
        "\n",
        "**Due: Friday, Jan 14 by 5pm (Pacific time)**"
      ],
      "metadata": {
        "id": "T-k5eMJctnA6"
      }
    },
    {
      "cell_type": "markdown",
      "source": [
        "---\n",
        "## Problem 1: Linear Regression"
      ],
      "metadata": {
        "id": "B2zGMk55uIUV"
      }
    },
    {
      "cell_type": "markdown",
      "source": [
        "**Part A)**\n",
        "In class we discussed how to fit linear regression by minimizing the mean squared error (MSE). The equations that determine the fit parameters $(\\boldsymbol{w}_*, b_*)$ are\n",
        "\n",
        "$$ \\nabla_{\\boldsymbol{w}} \\text{MSE}(\\boldsymbol{w}, b) \\Big|_{(\\boldsymbol{w}^*, b^*)} = 0 \\,, \\qquad \\nabla_{b} \\text{MSE}(\\boldsymbol{w}, b) \\Big|_{(\\boldsymbol{w}^*, b^*)} = 0 \\,.$$\n",
        "\n",
        "If you've ever done a linear regression before, you probably used a software package that solved these equations (and did many other things, such as computing the $R^2$ coefficient). For this problem, we will derive the solution ourselves. To make our life easier, let's ignore the bias term, and set $b=0$. Work out the derivative of the MSE with respect to the weight vector $\\boldsymbol{w}$ and solve for the best-fit value $\\boldsymbol{w}_*$.\n",
        "\n",
        "Note: this question is meant to gauge your multi-variate calculus ability. If you are unduly struggling, please reach out to me or another student to get help."
      ],
      "metadata": {
        "id": "ZYz1Wkwpfisg"
      }
    },
    {
      "cell_type": "markdown",
      "source": [
        "Your answer here."
      ],
      "metadata": {
        "id": "X3VaozRPhrPG"
      }
    },
    {
      "cell_type": "markdown",
      "source": [
        "Let's consider applying this to a real-world dataset."
      ],
      "metadata": {
        "id": "3D6FbMHghzJC"
      }
    },
    {
      "cell_type": "code",
      "source": [
        "## imports\n",
        "\n",
        "## numpy and scikit-learn will be useful libraries for this exercise\n",
        "import numpy as np\n",
        "import sklearn.datasets\n",
        "\n",
        "## plotting library\n",
        "import matplotlib\n",
        "import matplotlib.pyplot as plt\n",
        "\n",
        "## some commands to make the plots look nicer\n",
        "plt.style.use('seaborn-white')"
      ],
      "metadata": {
        "id": "6KL2mOOJtykW"
      },
      "execution_count": null,
      "outputs": []
    },
    {
      "cell_type": "code",
      "source": [
        "## increase the font size\n",
        "matplotlib.rcParams.update({'font.size': 16})"
      ],
      "metadata": {
        "id": "zYf2VOhS9gHw"
      },
      "execution_count": null,
      "outputs": []
    },
    {
      "cell_type": "code",
      "source": [
        "## let's load an example dataset from the scikit-learn (sklearn) library\n",
        "dataset = sklearn.datasets.load_diabetes()"
      ],
      "metadata": {
        "id": "HysEJNwt5iHn"
      },
      "execution_count": null,
      "outputs": []
    },
    {
      "cell_type": "code",
      "source": [
        "## the dataset object is actually a Python dictionary\n",
        "dataset.keys()"
      ],
      "metadata": {
        "id": "JPoHw1C165hp",
        "colab": {
          "base_uri": "https://localhost:8080/"
        },
        "outputId": "e47e3f49-4688-4a4a-8ca0-1391621a7a9d"
      },
      "execution_count": null,
      "outputs": [
        {
          "output_type": "execute_result",
          "data": {
            "text/plain": [
              "dict_keys(['data', 'target', 'frame', 'DESCR', 'feature_names', 'data_filename', 'target_filename', 'data_module'])"
            ]
          },
          "metadata": {},
          "execution_count": 5
        }
      ]
    },
    {
      "cell_type": "code",
      "source": [
        "## Inspect the dimensionality of the data\n",
        "dataset.data.shape"
      ],
      "metadata": {
        "id": "83J74vTY68rr",
        "colab": {
          "base_uri": "https://localhost:8080/"
        },
        "outputId": "1415a6fb-4b6d-45c8-a0ff-8a104a423ad8"
      },
      "execution_count": null,
      "outputs": [
        {
          "output_type": "execute_result",
          "data": {
            "text/plain": [
              "(442, 10)"
            ]
          },
          "metadata": {},
          "execution_count": 6
        }
      ]
    },
    {
      "cell_type": "code",
      "source": [
        "## The 10 features are\n",
        "dataset.feature_names"
      ],
      "metadata": {
        "id": "oD8Vd-gxEwFT",
        "colab": {
          "base_uri": "https://localhost:8080/"
        },
        "outputId": "d982cfdf-aed4-4bfe-a394-61abe05a2547"
      },
      "execution_count": null,
      "outputs": [
        {
          "output_type": "execute_result",
          "data": {
            "text/plain": [
              "['age', 'sex', 'bmi', 'bp', 's1', 's2', 's3', 's4', 's5', 's6']"
            ]
          },
          "metadata": {},
          "execution_count": 7
        }
      ]
    },
    {
      "cell_type": "code",
      "source": [
        "## extract the (X,Y)'s\n",
        "X = dataset.data\n",
        "y = dataset.target\n",
        "\n",
        "## define the dimensions of the data\n",
        "N = X.shape[0]\n",
        "p = X.shape[1]"
      ],
      "metadata": {
        "id": "a7GxgNPAyRpZ"
      },
      "execution_count": null,
      "outputs": []
    },
    {
      "cell_type": "markdown",
      "source": [
        "Earlier, we set the bias term $b=0$ in doing our derivation in order to make our lives easier. Actually, there's a little trick we can do to restore this term in our solution without doing any additional work.\n",
        "\n",
        "If $\\boldsymbol{x}$ is a $p$-dim vector, let's consider the enlarged $(p+1)$-dim vector given by\n",
        "\n",
        "$$ \\boldsymbol{x}' = (\\boldsymbol{x}, 1) \\,. $$\n",
        "\n",
        "Let's also enlarge the vector of weights in the same way,\n",
        "\n",
        "$$ \\boldsymbol{w}' = (\\boldsymbol{w}, b) \\,. $$\n",
        "\n",
        "Now notice that the linear model (in terms of the primed variables) with no bias term naturally incorporates a bias term when expressed in terms of the original vectors:\n",
        "\n",
        "$$ \\boldsymbol{w}'^T \\boldsymbol{x}' = \\boldsymbol{w}^T \\boldsymbol{x} + b \\,,$$\n",
        "\n",
        "In other words, we were able to set $b=0$ above with really no loss in generality, and we can easily accomodate the bias term by simply adding 1 to each $\\boldsymbol{x}$ value in our dataset. If we want to do this for every single data point at once, we can consider the $N\\times p$ matrix $X$ and just add a column vector of 1's to it."
      ],
      "metadata": {
        "id": "Z2PTozRHWGWJ"
      }
    },
    {
      "cell_type": "code",
      "source": [
        "## add a column vector of 1's to the X matrix\n",
        "## this lets us incorporate a bias term easily\n",
        "X_enlarged = np.concatenate((X, np.ones(N)[:,None]), axis=1)\n",
        "X_enlarged.shape"
      ],
      "metadata": {
        "id": "8-cxBYeAH8j_",
        "colab": {
          "base_uri": "https://localhost:8080/"
        },
        "outputId": "62a6384e-2945-479f-c200-edf53cb0d13b"
      },
      "execution_count": null,
      "outputs": [
        {
          "output_type": "execute_result",
          "data": {
            "text/plain": [
              "(442, 11)"
            ]
          },
          "metadata": {},
          "execution_count": 9
        }
      ]
    },
    {
      "cell_type": "code",
      "source": [
        "## shuffle the data\n",
        "## this is just good practice\n",
        "permutation = np.arange(N) ## SC: Creating a list of N elements\n",
        "np.random.shuffle(permutation) #this is an in-place operation. SC: Shuffle the \"permutation\" list\n",
        "\n",
        "X = X[permutation,:]\n",
        "X_enlarged = X_enlarged[permutation,:]\n",
        "y = y[permutation]"
      ],
      "metadata": {
        "id": "apgc93HG84DF"
      },
      "execution_count": null,
      "outputs": []
    },
    {
      "cell_type": "markdown",
      "source": [
        "**Part B)**\n",
        "\n",
        "Implement the above solution you derived for the OLS linear regression fit to the data. You will find the following numpy commands helpful:\n",
        "\n",
        "np.transpose(X) - transpose the matrix X  \n",
        "np.linalg.inverse(X) - invert the matrix X  \n",
        "np.dot(A, B) - find the dot product between two matrices, vectors, or matrix-vector pair.\n",
        "\n"
      ],
      "metadata": {
        "id": "fGGj1BKGFjfe"
      }
    },
    {
      "cell_type": "code",
      "source": [
        "## your answer here\n",
        "X_enlargedT = np.transpose (X_enlarged)\n",
        "X_etranpose_dot_X_e = np.dot (X_enlargedT, X_enlarged)\n",
        "Inverse_X_etranpose_dot_X_e = np.linalg.inv(X_etranpose_dot_X_e)\n",
        "X_e_tranpose_dot_y = np.dot (X_enlargedT, y)\n",
        "beta = np.dot (Inverse_X_etranpose_dot_X_e, X_e_tranpose_dot_y)\n",
        "beta"
      ],
      "metadata": {
        "id": "m3TGpybOyyef",
        "colab": {
          "base_uri": "https://localhost:8080/"
        },
        "outputId": "0c4b5125-e4eb-4ba5-807f-a89620823648"
      },
      "execution_count": null,
      "outputs": [
        {
          "output_type": "execute_result",
          "data": {
            "text/plain": [
              "array([ -10.01219782, -239.81908937,  519.83978679,  324.39042769,\n",
              "       -792.18416163,  476.74583782,  101.04457032,  177.06417623,\n",
              "        751.27932109,   67.62538639,  152.13348416])"
            ]
          },
          "metadata": {},
          "execution_count": 11
        }
      ]
    },
    {
      "cell_type": "markdown",
      "source": [
        "**Part C)**\n",
        "\n",
        "Now let's compare this to the answer we get when we use a built-in linear regression solver. Use scikit-learn to fit a regression model to the data and verify that the fitted parameters it returns agree with our wstar solution above.\n",
        "\n",
        "Hints\n",
        "- Feel free to use the [scikit-learn docs](https://scikit-learn.org/stable/modules/generated/sklearn.linear_model.LinearRegression.html) to see how to use their linear regression solver. This skill, being able to g to a docs page and teach yourself how to use a particular software package, is a key part of doing ML/data science.\n",
        "- We need to be careful to use the original (not the enlarged) X matrix."
      ],
      "metadata": {
        "id": "-OJ4PIQHLaCr"
      }
    },
    {
      "cell_type": "code",
      "source": [
        "# Model Define - Linear Regression\n",
        "from sklearn.linear_model import LinearRegression\n",
        "model = LinearRegression().fit(X,y)\n",
        "\n",
        "print(model.intercept_)\n",
        "print(model.coef_)\n"
      ],
      "metadata": {
        "id": "owZ3mHfsHQeK",
        "colab": {
          "base_uri": "https://localhost:8080/"
        },
        "outputId": "64391339-2111-4264-b014-e9b2c2f52d8e"
      },
      "execution_count": null,
      "outputs": [
        {
          "output_type": "stream",
          "name": "stdout",
          "text": [
            "152.1334841628965\n",
            "[ -10.01219782 -239.81908937  519.83978679  324.39042769 -792.18416163\n",
            "  476.74583782  101.04457032  177.06417623  751.27932109   67.62538639]\n"
          ]
        }
      ]
    },
    {
      "cell_type": "code",
      "source": [
        "beta.shape"
      ],
      "metadata": {
        "colab": {
          "base_uri": "https://localhost:8080/"
        },
        "id": "X7nBmoqul-R4",
        "outputId": "82b15b44-5d5c-477a-c942-7e8848acc0e9"
      },
      "execution_count": null,
      "outputs": [
        {
          "output_type": "execute_result",
          "data": {
            "text/plain": [
              "(11,)"
            ]
          },
          "metadata": {},
          "execution_count": 16
        }
      ]
    },
    {
      "cell_type": "markdown",
      "source": [
        "**Part D)**\n",
        "\n",
        "Finally, let's try to gain a sense for the MSE loss function. What does it *look* like? Well, it's a bit hard to visualize because it's a function of 11 parameters (10 weights and a bias). One solution is to just look at a 1d slice of this 11d space - of course this can't give us the whole picture, but it's better than nothing.\n",
        "\n",
        "There are a lot of ways to pick the 1d slice. A natural one is to look at the loss function along the array picked out by our optimal solution, i.e.\n",
        "\n",
        "$$ \\boldsymbol{w}(t) = \\boldsymbol{w}_* t \\,, \\quad t \\in \\mathbb{R} \\,.  $$\n",
        "\n",
        "This is a family of vectors (directions). For $t=0$ it's the origin, and for $t=1$ it's the best-fit vector. Define a Python function for the MSE as a function of $t$ and plot it. For what value of $t$ is the MSE the smallest? Does this make sense?"
      ],
      "metadata": {
        "id": "81LGjqO8PaQo"
      }
    },
    {
      "cell_type": "code",
      "source": [
        "## your answer here\n",
        "\n",
        "step = np.linspace (-5,5,100)\n",
        "\n",
        "def MSE(w):\n",
        "  y_pred_by_hand = np.dot (w, X_enlarged)\n",
        "  mse = sklearn.metrics.mean_squared_error(y, y_pred_by_hand)\n",
        "  return mse\n",
        "def MSE_along1d (t):\n",
        "  new_weight = t* beta\n",
        "  mse_along1d= MSE(new weight)\n",
        "  return mse_along1d, new weight\n",
        "\n",
        "MSE_for_different_t = []\n",
        "w_for different_t = []\n",
        "\n",
        "for t in step:\n",
        "  result = mse_along1d(t) # result is a tupple\n",
        "  MSE_for_different_t.append(result[0])\n",
        "  w_for_different_t.append(result[1])\n",
        "\n",
        "  ## now simply plot \"MSE_for_different_t\" with \" w_for_different_t\".\n"
      ],
      "metadata": {
        "id": "hmm20dMHPzu7",
        "colab": {
          "base_uri": "https://localhost:8080/",
          "height": 235
        },
        "outputId": "5ab8c131-39ad-47eb-c527-be8dd7ed9791"
      },
      "execution_count": null,
      "outputs": [
        {
          "output_type": "error",
          "ename": "ValueError",
          "evalue": "ignored",
          "traceback": [
            "\u001b[0;31m---------------------------------------------------------------------------\u001b[0m",
            "\u001b[0;31mValueError\u001b[0m                                Traceback (most recent call last)",
            "\u001b[0;32m<ipython-input-14-cc963ab70698>\u001b[0m in \u001b[0;36m<module>\u001b[0;34m()\u001b[0m\n\u001b[1;32m      3\u001b[0m \u001b[0mt\u001b[0m \u001b[0;34m=\u001b[0m \u001b[0mnp\u001b[0m\u001b[0;34m.\u001b[0m\u001b[0mlinspace\u001b[0m \u001b[0;34m(\u001b[0m\u001b[0;34m-\u001b[0m\u001b[0;36m5\u001b[0m\u001b[0;34m,\u001b[0m\u001b[0;36m5\u001b[0m\u001b[0;34m,\u001b[0m\u001b[0;36m100\u001b[0m\u001b[0;34m)\u001b[0m\u001b[0;34m\u001b[0m\u001b[0;34m\u001b[0m\u001b[0m\n\u001b[1;32m      4\u001b[0m \u001b[0;34m\u001b[0m\u001b[0m\n\u001b[0;32m----> 5\u001b[0;31m \u001b[0my_pred_by_hand\u001b[0m \u001b[0;34m=\u001b[0m \u001b[0mnp\u001b[0m\u001b[0;34m.\u001b[0m\u001b[0mdot\u001b[0m \u001b[0;34m(\u001b[0m\u001b[0mbeta\u001b[0m\u001b[0;34m,\u001b[0m \u001b[0mX_enlarged\u001b[0m\u001b[0;34m)\u001b[0m\u001b[0;34m\u001b[0m\u001b[0;34m\u001b[0m\u001b[0m\n\u001b[0m",
            "\u001b[0;32m<__array_function__ internals>\u001b[0m in \u001b[0;36mdot\u001b[0;34m(*args, **kwargs)\u001b[0m\n",
            "\u001b[0;31mValueError\u001b[0m: shapes (11,) and (442,11) not aligned: 11 (dim 0) != 442 (dim 0)"
          ]
        }
      ]
    },
    {
      "cell_type": "markdown",
      "source": [
        "Without giving too much away, your plot should look like a \"U\" shape. Of course, we can't conclude much about the full 11-d shape of the loss just from this 1d slice, but it turns out that in this case such an unjustified extrapolation actually gives the right answer. The full loss function looks like a big bowl in 11d space. This is because the loss function is a quadratic polynomial - take the linear model $f$ and square it to build the MSE."
      ],
      "metadata": {
        "id": "XUW-WikpIcE2"
      }
    },
    {
      "cell_type": "markdown",
      "source": [
        "**Debrief**\n",
        "\n",
        "Congratulations! You just implemented from scratch your first basic machine learning model! Normally we'd be interested in evaluating the performance on the model on unseen data, but we've beaten this linear regression horse enough for today."
      ],
      "metadata": {
        "id": "nT9DlMGbL5bh"
      }
    },
    {
      "cell_type": "markdown",
      "source": [
        "---\n",
        "## Problem 2: (Binary) Logistic Regression\n",
        "\n",
        "Now we will explore some basic properties of logistic regression, again using one of the included sample datasets in the scikit-learn library.\n",
        "\n",
        "As much as I'd love to ask you to derive the optimal, best-fit solution as I did for the linear regression problem, I can't, because a closed-form solution does not exist. Even though logistic regression is still a linear model, the loss function is now more complicated than before, and involves non-linearities (such as $\\ln$, $\\exp$) which complicate the expression enough to preclude a simple closed form solution.  "
      ],
      "metadata": {
        "id": "HPBYSUHCd0fZ"
      }
    },
    {
      "cell_type": "code",
      "source": [
        "## let's load an example dataset from the scikit-learn (sklearn) library\n",
        "dataset = sklearn.datasets.load_breast_cancer()"
      ],
      "metadata": {
        "id": "1GlZjb-Md1vV"
      },
      "execution_count": null,
      "outputs": []
    },
    {
      "cell_type": "code",
      "source": [
        "## the dataset object is actually a Python dictionary\n",
        "dataset.keys()"
      ],
      "metadata": {
        "id": "-bY49NlAKcZB",
        "colab": {
          "base_uri": "https://localhost:8080/"
        },
        "outputId": "d1d084cb-3175-4447-de35-8aa3300f86ea"
      },
      "execution_count": null,
      "outputs": [
        {
          "output_type": "execute_result",
          "data": {
            "text/plain": [
              "dict_keys(['data', 'target', 'frame', 'target_names', 'DESCR', 'feature_names', 'filename', 'data_module'])"
            ]
          },
          "metadata": {},
          "execution_count": 17
        }
      ]
    },
    {
      "cell_type": "code",
      "source": [
        "## Inspect the dimensionality of the data\n",
        "dataset.data.shape"
      ],
      "metadata": {
        "id": "9s9e3_KXKe79",
        "colab": {
          "base_uri": "https://localhost:8080/"
        },
        "outputId": "183c2cbb-8628-43cc-e34d-22ecf08aeb28"
      },
      "execution_count": null,
      "outputs": [
        {
          "output_type": "execute_result",
          "data": {
            "text/plain": [
              "(569, 30)"
            ]
          },
          "metadata": {},
          "execution_count": 18
        }
      ]
    },
    {
      "cell_type": "code",
      "source": [
        "## The 30 features are\n",
        "dataset.feature_names"
      ],
      "metadata": {
        "id": "XhEK51JaKiRB",
        "colab": {
          "base_uri": "https://localhost:8080/"
        },
        "outputId": "afddc299-0457-4629-c054-47e9e29cba81"
      },
      "execution_count": null,
      "outputs": [
        {
          "output_type": "execute_result",
          "data": {
            "text/plain": [
              "array(['mean radius', 'mean texture', 'mean perimeter', 'mean area',\n",
              "       'mean smoothness', 'mean compactness', 'mean concavity',\n",
              "       'mean concave points', 'mean symmetry', 'mean fractal dimension',\n",
              "       'radius error', 'texture error', 'perimeter error', 'area error',\n",
              "       'smoothness error', 'compactness error', 'concavity error',\n",
              "       'concave points error', 'symmetry error',\n",
              "       'fractal dimension error', 'worst radius', 'worst texture',\n",
              "       'worst perimeter', 'worst area', 'worst smoothness',\n",
              "       'worst compactness', 'worst concavity', 'worst concave points',\n",
              "       'worst symmetry', 'worst fractal dimension'], dtype='<U23')"
            ]
          },
          "metadata": {},
          "execution_count": 19
        }
      ]
    },
    {
      "cell_type": "code",
      "source": [
        "## extract the (X,Y)'s\n",
        "X = dataset.data\n",
        "y = dataset.target\n",
        "\n",
        "## define the dimensions of the data\n",
        "N = X.shape[0]\n",
        "p = X.shape[1]"
      ],
      "metadata": {
        "id": "txBnNLEyKm1_"
      },
      "execution_count": null,
      "outputs": []
    },
    {
      "cell_type": "code",
      "source": [
        "## shuffle the data\n",
        "## this is just good practice\n",
        "permutation = np.arange(N)\n",
        "np.random.shuffle(permutation) #this is an in-place operation\n",
        "\n",
        "X = X[permutation,:]\n",
        "y = y[permutation]"
      ],
      "metadata": {
        "id": "wsVklLZmL0RH"
      },
      "execution_count": null,
      "outputs": []
    },
    {
      "cell_type": "code",
      "source": [
        "## for the logistic regression to converge we need to scale the data\n",
        "## see https://scikit-learn.org/stable/modules/generated/sklearn.preprocessing.StandardScaler.html\n",
        "## for more details if you're curious\n",
        "from sklearn.preprocessing import StandardScaler\n",
        "scaler = StandardScaler()\n",
        "X  = scaler.fit_transform(X)"
      ],
      "metadata": {
        "id": "FIt1vHntMeoo"
      },
      "execution_count": null,
      "outputs": []
    },
    {
      "cell_type": "code",
      "source": [
        "## the y-values are binary\n",
        "y"
      ],
      "metadata": {
        "id": "11Ufr823KqPs",
        "colab": {
          "base_uri": "https://localhost:8080/"
        },
        "outputId": "f3f1f6df-e678-4305-fc21-709f3d11407b"
      },
      "execution_count": null,
      "outputs": [
        {
          "output_type": "execute_result",
          "data": {
            "text/plain": [
              "array([1, 1, 0, 1, 0, 0, 1, 1, 1, 0, 0, 1, 0, 1, 1, 0, 1, 0, 1, 1, 1, 1,\n",
              "       0, 1, 0, 1, 0, 0, 0, 0, 1, 0, 0, 0, 1, 0, 1, 1, 1, 1, 1, 0, 0, 1,\n",
              "       0, 0, 1, 1, 0, 0, 1, 1, 1, 0, 0, 0, 0, 0, 0, 0, 0, 0, 1, 1, 0, 1,\n",
              "       1, 1, 1, 1, 1, 0, 1, 0, 1, 1, 1, 1, 0, 1, 1, 0, 1, 1, 0, 0, 0, 0,\n",
              "       1, 1, 1, 1, 1, 1, 1, 1, 1, 1, 1, 1, 1, 1, 1, 1, 1, 1, 0, 1, 1, 0,\n",
              "       1, 1, 0, 1, 0, 0, 1, 0, 1, 1, 1, 1, 1, 0, 1, 1, 1, 1, 1, 0, 1, 1,\n",
              "       1, 1, 0, 1, 1, 0, 0, 1, 0, 1, 1, 1, 0, 1, 0, 0, 1, 1, 1, 1, 0, 1,\n",
              "       0, 1, 1, 0, 1, 1, 0, 1, 1, 0, 1, 0, 1, 1, 0, 1, 0, 0, 0, 0, 1, 0,\n",
              "       1, 0, 1, 1, 0, 1, 1, 0, 0, 1, 1, 1, 1, 1, 1, 1, 0, 1, 0, 1, 1, 1,\n",
              "       1, 0, 1, 0, 1, 0, 1, 1, 1, 1, 1, 1, 1, 1, 1, 1, 1, 1, 0, 1, 1, 0,\n",
              "       0, 0, 1, 0, 1, 1, 1, 1, 0, 1, 0, 1, 1, 1, 1, 1, 1, 0, 0, 0, 1, 0,\n",
              "       0, 0, 0, 0, 0, 0, 1, 1, 1, 0, 0, 1, 1, 0, 1, 1, 0, 1, 1, 1, 0, 1,\n",
              "       0, 0, 0, 1, 1, 1, 1, 1, 0, 0, 1, 1, 1, 1, 0, 0, 1, 0, 0, 1, 0, 1,\n",
              "       1, 1, 0, 1, 1, 0, 1, 1, 0, 1, 1, 1, 0, 1, 0, 1, 0, 1, 1, 1, 0, 1,\n",
              "       1, 1, 1, 0, 0, 1, 1, 1, 0, 1, 1, 1, 1, 0, 0, 1, 1, 1, 1, 1, 1, 1,\n",
              "       1, 1, 1, 0, 0, 1, 1, 1, 1, 0, 0, 1, 1, 0, 1, 1, 1, 0, 0, 1, 0, 0,\n",
              "       1, 1, 0, 0, 1, 1, 0, 1, 0, 1, 0, 1, 1, 0, 1, 1, 1, 0, 1, 1, 1, 0,\n",
              "       0, 0, 0, 1, 1, 1, 1, 1, 1, 1, 0, 0, 1, 1, 1, 1, 1, 1, 1, 1, 0, 1,\n",
              "       0, 1, 0, 1, 1, 1, 1, 0, 0, 1, 0, 1, 1, 1, 0, 1, 1, 0, 1, 1, 1, 1,\n",
              "       1, 0, 1, 1, 0, 0, 0, 1, 1, 1, 0, 0, 1, 0, 1, 1, 1, 1, 1, 0, 0, 1,\n",
              "       1, 1, 1, 0, 0, 0, 0, 0, 1, 1, 1, 1, 1, 1, 1, 1, 1, 0, 1, 1, 0, 1,\n",
              "       0, 1, 1, 0, 0, 1, 1, 1, 1, 1, 0, 1, 1, 1, 1, 0, 1, 0, 1, 1, 0, 0,\n",
              "       0, 1, 1, 1, 1, 1, 0, 1, 1, 1, 1, 1, 1, 0, 1, 1, 0, 0, 0, 1, 1, 0,\n",
              "       1, 0, 1, 1, 0, 1, 1, 0, 1, 0, 1, 1, 0, 1, 1, 0, 0, 1, 0, 0, 1, 1,\n",
              "       1, 0, 0, 1, 1, 0, 1, 0, 1, 1, 1, 1, 1, 0, 1, 0, 1, 0, 0, 1, 1, 0,\n",
              "       1, 1, 1, 0, 0, 1, 1, 0, 1, 0, 0, 1, 1, 0, 0, 0, 0, 0, 0])"
            ]
          },
          "metadata": {},
          "execution_count": 23
        }
      ]
    },
    {
      "cell_type": "code",
      "source": [
        "## split the data into a test and train set\n",
        "Ntrain = int(0.8 * N) # let's do an 80/20 split\n",
        "Ntest = N - Ntrain\n",
        "\n",
        "X_train = X[:Ntrain]\n",
        "y_train = y[:Ntrain]\n",
        "\n",
        "X_test = X[Ntrain:]\n",
        "y_test = y[Ntrain:]"
      ],
      "metadata": {
        "id": "ZwCdzgbPLQQc"
      },
      "execution_count": null,
      "outputs": []
    },
    {
      "cell_type": "markdown",
      "source": [
        "**Part A)**\n",
        "\n",
        "Use scikit-learn to fit a logistic regression model to the *training* data.\n",
        "\n",
        "Hints\n",
        "- Feel free to use the [scikit-learn docs](https://scikit-learn.org/stable/modules/generated/sklearn.linear_model.LogisticRegression.html) to see how to use their logistic regression solver."
      ],
      "metadata": {
        "id": "2e9YUWa5K71k"
      }
    },
    {
      "cell_type": "code",
      "source": [
        "# Help: https://towardsdatascience.com/logistic-regression-using-python-sklearn-numpy-mnist-handwriting-recognition-matplotlib-a6b31e2b166a\n",
        "\n",
        "from sklearn.linear_model import LogisticRegression\n",
        "model = LogisticRegression()\n",
        "model.fit(X_train, y_train)"
      ],
      "metadata": {
        "id": "bQ0jMCGCKwis",
        "colab": {
          "base_uri": "https://localhost:8080/"
        },
        "outputId": "e02b85b2-f0cb-4a5d-ab32-2b0f0400316e"
      },
      "execution_count": null,
      "outputs": [
        {
          "output_type": "execute_result",
          "data": {
            "text/plain": [
              "LogisticRegression()"
            ]
          },
          "metadata": {},
          "execution_count": 48
        }
      ]
    },
    {
      "cell_type": "markdown",
      "source": [
        "**Part B)**\n",
        "\n",
        "Having fit the model to the training data, let's look at the predictions for the as-yet unseen testing data. This can be accomplished by running ```model.predict(X_test)```, if you called your scikit-learn model ```model```.\n",
        "\n",
        "If you recall, in class I actually never explained how to get the predictions from this model. I explained how we get the estimate for the probabilities $p(y=1|\\boldsymbol{x})$. These can be obtained using ```model.predict_proba(X_test)```.\n",
        "\n",
        "Question: Explain how the predictions are related to the probability estimates. Verify that your answer is correct by checking that it correctly reproduces the scikit-learn predictions when applied to the scikit-learn probabilities."
      ],
      "metadata": {
        "id": "qKyOUWeDNLYU"
      }
    },
    {
      "cell_type": "markdown",
      "source": [
        "your answer here"
      ],
      "metadata": {
        "id": "34FPfhlHO1ht"
      }
    },
    {
      "cell_type": "code",
      "source": [],
      "metadata": {
        "id": "jQ--iLs_LlH5"
      },
      "execution_count": null,
      "outputs": []
    },
    {
      "cell_type": "code",
      "source": [
        "## your answer here\n",
        "y_pred = model.predict(X_test)\n",
        "\n",
        "import pandas as pd\n",
        "pred_proba_df = pd.DataFrame(model.predict_proba(X_test)) # predict the probabilities of each class\n",
        "Y_prob_pred = pred_proba_df.applymap(lambda x: 1 if x>0.5 else 0) # use the probabilities to predict class with threshold 0.5\n",
        "Y_prob_pred.columns = [\"0\", \"1\"] # Set the column names of Y_prob_pred dataframe\n",
        "df=pd.DataFrame([y_test,y_pred], index=[\"y_test\",\"y_pred\"])\n",
        "df = df.transpose()\n",
        "df[\"y_prob_pred\"] = np.where (Y_prob_pred[\"0\"]>Y_prob_pred[\"1\"], 0, 1)# Data frame presenting the actual values (y_test),...\n",
        "# directly predicted values using predict function (y_pred) & values predicted from probabilities(y_prob_pred)\n",
        "df"
      ],
      "metadata": {
        "id": "UyaV3bHdMisT"
      },
      "execution_count": null,
      "outputs": []
    },
    {
      "cell_type": "markdown",
      "source": [
        "Answer: As the automatic sci-kit learning predictions and the predictions from calculated probability are the same, it is evident that the sci-kit prediction function (model.predict(X_test))used a threshold of P>=0.5 for binary classifications."
      ],
      "metadata": {
        "id": "oAqoYGb5qMA-"
      }
    },
    {
      "cell_type": "code",
      "source": [
        "## let's compute the test set accuracy\n",
        "np.mean(y_test == y_pred) # https://stackoverflow.com/questions/42140113/numpy-mean-with-comparison-operator-in-the-parameter"
      ],
      "metadata": {
        "id": "9IPf7lafQCUt",
        "colab": {
          "base_uri": "https://localhost:8080/"
        },
        "outputId": "f55f50ca-2104-4a71-8106-19b4b09d8090"
      },
      "execution_count": null,
      "outputs": [
        {
          "output_type": "execute_result",
          "data": {
            "text/plain": [
              "0.9824561403508771"
            ]
          },
          "metadata": {},
          "execution_count": 29
        }
      ]
    },
    {
      "cell_type": "markdown",
      "source": [
        "**Part C)**\n",
        "\n",
        "Finally, let's investigate the ROC curve for our model. Use the [built-in scikit-learn function](https://scikit-learn.org/stable/modules/generated/sklearn.metrics.roc_curve.html) to plot this. What can you learn from the performance of the model by looking at this plot?"
      ],
      "metadata": {
        "id": "jFR5cwWvTAtd"
      }
    },
    {
      "cell_type": "code",
      "source": [
        "#Help: https://towardsdatascience.com/receiver-operating-characteristic-curves-demystified-in-python-bd531a4364d0\n",
        "\n",
        "from sklearn.metrics import RocCurveDisplay\n",
        "RocCurveDisplay.from_predictions(y_test, y_pred)"
      ],
      "metadata": {
        "id": "_aLVGMsgQGEd",
        "colab": {
          "base_uri": "https://localhost:8080/",
          "height": 323
        },
        "outputId": "f0ea2d85-580e-40c3-b31f-956dffe29400"
      },
      "execution_count": null,
      "outputs": [
        {
          "output_type": "execute_result",
          "data": {
            "text/plain": [
              "<sklearn.metrics._plot.roc_curve.RocCurveDisplay at 0x7f62257e1750>"
            ]
          },
          "metadata": {},
          "execution_count": 35
        },
        {
          "output_type": "display_data",
          "data": {
            "image/png": "[encoded data removed]",
            "text/plain": [
              "<Figure size 432x288 with 1 Axes>"
            ]
          },
          "metadata": {}
        }
      ]
    },
    {
      "cell_type": "markdown",
      "source": [
        "**Part D)**  \n",
        "In class I explained that the loss function for logisic regression is the Binary Cross Entropy (BCE) loss. You may be wondering where this particular loss function comes from.\n",
        "\n",
        "Show that it corresponds to the Negative Log Likelihood (NLL) (up to a constant), so that minimizing the BCE loss corresponds to maximizing the likelihood. To help you get started, here are expressions for BCE and the likelihood L:\n",
        "\n",
        "$$\\text{BCE} = - \\frac{1}{N} \\sum_{i=1}^N \\Big( y_i \\ln p(y=1|x_i) + (1-y_i) \\ln \\left(1 - p(y=1|x_i) \\right) \\Big) $$\n",
        "\n",
        "$$ L = \\prod_{i=1}^N p(y_i |x_i) $$"
      ],
      "metadata": {
        "id": "_kza11e8Acbg"
      }
    },
    {
      "cell_type": "markdown",
      "source": [
        "your answer here"
      ],
      "metadata": {
        "id": "i89V10UXCU5N"
      }
    },
    {
      "cell_type": "code",
      "source": [],
      "metadata": {
        "id": "Rhk2gs_yBpo2"
      },
      "execution_count": null,
      "outputs": []
    }
  ]
}